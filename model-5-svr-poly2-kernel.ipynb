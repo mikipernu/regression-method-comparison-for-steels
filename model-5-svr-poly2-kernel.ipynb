{
 "cells": [
  {
   "cell_type": "code",
   "execution_count": 1,
   "id": "devoted-context",
   "metadata": {},
   "outputs": [],
   "source": [
    "import pandas as pd\n",
    "import numpy as np\n",
    "pd.options.mode.chained_assignment = None  # default='warn'"
   ]
  },
  {
   "cell_type": "code",
   "execution_count": 2,
   "id": "outside-virgin",
   "metadata": {},
   "outputs": [],
   "source": [
    "steels_train = '~/Projects/machine-learning/data/steels_train.csv'\n",
    "\n",
    "steels_train = pd.read_csv(steels_train, sep = \",\", engine='python')"
   ]
  },
  {
   "cell_type": "code",
   "execution_count": 3,
   "id": "trained-indian",
   "metadata": {},
   "outputs": [
    {
     "data": {
      "text/html": [
       "<div>\n",
       "<style scoped>\n",
       "    .dataframe tbody tr th:only-of-type {\n",
       "        vertical-align: middle;\n",
       "    }\n",
       "\n",
       "    .dataframe tbody tr th {\n",
       "        vertical-align: top;\n",
       "    }\n",
       "\n",
       "    .dataframe thead th {\n",
       "        text-align: right;\n",
       "    }\n",
       "</style>\n",
       "<table border=\"1\" class=\"dataframe\">\n",
       "  <thead>\n",
       "    <tr style=\"text-align: right;\">\n",
       "      <th></th>\n",
       "      <th>c</th>\n",
       "      <th>cr</th>\n",
       "      <th>fe</th>\n",
       "      <th>al</th>\n",
       "      <th>ti</th>\n",
       "      <th>yield strength</th>\n",
       "    </tr>\n",
       "  </thead>\n",
       "  <tbody>\n",
       "    <tr>\n",
       "      <th>0</th>\n",
       "      <td>0.046512</td>\n",
       "      <td>0.000000</td>\n",
       "      <td>0.000000</td>\n",
       "      <td>0.078212</td>\n",
       "      <td>0.620</td>\n",
       "      <td>0.934326</td>\n",
       "    </tr>\n",
       "    <tr>\n",
       "      <th>1</th>\n",
       "      <td>0.023256</td>\n",
       "      <td>0.000000</td>\n",
       "      <td>0.354167</td>\n",
       "      <td>0.508380</td>\n",
       "      <td>0.280</td>\n",
       "      <td>0.381680</td>\n",
       "    </tr>\n",
       "    <tr>\n",
       "      <th>2</th>\n",
       "      <td>0.000000</td>\n",
       "      <td>0.817038</td>\n",
       "      <td>0.341667</td>\n",
       "      <td>0.050279</td>\n",
       "      <td>0.196</td>\n",
       "      <td>0.228995</td>\n",
       "    </tr>\n",
       "    <tr>\n",
       "      <th>3</th>\n",
       "      <td>0.093023</td>\n",
       "      <td>0.707261</td>\n",
       "      <td>0.575000</td>\n",
       "      <td>0.446927</td>\n",
       "      <td>0.012</td>\n",
       "      <td>0.199083</td>\n",
       "    </tr>\n",
       "    <tr>\n",
       "      <th>4</th>\n",
       "      <td>0.023256</td>\n",
       "      <td>0.578045</td>\n",
       "      <td>0.287500</td>\n",
       "      <td>0.011173</td>\n",
       "      <td>0.000</td>\n",
       "      <td>0.319263</td>\n",
       "    </tr>\n",
       "  </tbody>\n",
       "</table>\n",
       "</div>"
      ],
      "text/plain": [
       "          c        cr        fe        al     ti  yield strength\n",
       "0  0.046512  0.000000  0.000000  0.078212  0.620        0.934326\n",
       "1  0.023256  0.000000  0.354167  0.508380  0.280        0.381680\n",
       "2  0.000000  0.817038  0.341667  0.050279  0.196        0.228995\n",
       "3  0.093023  0.707261  0.575000  0.446927  0.012        0.199083\n",
       "4  0.023256  0.578045  0.287500  0.011173  0.000        0.319263"
      ]
     },
     "execution_count": 3,
     "metadata": {},
     "output_type": "execute_result"
    }
   ],
   "source": [
    "steels_train.head()"
   ]
  },
  {
   "cell_type": "code",
   "execution_count": 4,
   "id": "conservative-importance",
   "metadata": {},
   "outputs": [
    {
     "data": {
      "text/plain": [
       "(174, 6)"
      ]
     },
     "execution_count": 4,
     "metadata": {},
     "output_type": "execute_result"
    }
   ],
   "source": [
    "steels_train.shape"
   ]
  },
  {
   "cell_type": "code",
   "execution_count": 5,
   "id": "apparent-juice",
   "metadata": {},
   "outputs": [
    {
     "data": {
      "text/html": [
       "<div>\n",
       "<style scoped>\n",
       "    .dataframe tbody tr th:only-of-type {\n",
       "        vertical-align: middle;\n",
       "    }\n",
       "\n",
       "    .dataframe tbody tr th {\n",
       "        vertical-align: top;\n",
       "    }\n",
       "\n",
       "    .dataframe thead th {\n",
       "        text-align: right;\n",
       "    }\n",
       "</style>\n",
       "<table border=\"1\" class=\"dataframe\">\n",
       "  <thead>\n",
       "    <tr style=\"text-align: right;\">\n",
       "      <th></th>\n",
       "      <th>c</th>\n",
       "      <th>cr</th>\n",
       "      <th>fe</th>\n",
       "      <th>al</th>\n",
       "      <th>ti</th>\n",
       "      <th>yield strength</th>\n",
       "    </tr>\n",
       "  </thead>\n",
       "  <tbody>\n",
       "    <tr>\n",
       "      <th>count</th>\n",
       "      <td>174.000000</td>\n",
       "      <td>174.000000</td>\n",
       "      <td>174.000000</td>\n",
       "      <td>174.000000</td>\n",
       "      <td>174.000000</td>\n",
       "      <td>174.000000</td>\n",
       "    </tr>\n",
       "    <tr>\n",
       "      <th>mean</th>\n",
       "      <td>0.221866</td>\n",
       "      <td>0.459269</td>\n",
       "      <td>0.446408</td>\n",
       "      <td>0.136069</td>\n",
       "      <td>0.126506</td>\n",
       "      <td>0.277403</td>\n",
       "    </tr>\n",
       "    <tr>\n",
       "      <th>std</th>\n",
       "      <td>0.248991</td>\n",
       "      <td>0.311240</td>\n",
       "      <td>0.210586</td>\n",
       "      <td>0.197435</td>\n",
       "      <td>0.224213</td>\n",
       "      <td>0.194965</td>\n",
       "    </tr>\n",
       "    <tr>\n",
       "      <th>min</th>\n",
       "      <td>0.000000</td>\n",
       "      <td>0.000000</td>\n",
       "      <td>0.000000</td>\n",
       "      <td>0.000000</td>\n",
       "      <td>0.000000</td>\n",
       "      <td>0.004587</td>\n",
       "    </tr>\n",
       "    <tr>\n",
       "      <th>25%</th>\n",
       "      <td>0.023256</td>\n",
       "      <td>0.176672</td>\n",
       "      <td>0.270833</td>\n",
       "      <td>0.011173</td>\n",
       "      <td>0.000000</td>\n",
       "      <td>0.153068</td>\n",
       "    </tr>\n",
       "    <tr>\n",
       "      <th>50%</th>\n",
       "      <td>0.069767</td>\n",
       "      <td>0.556604</td>\n",
       "      <td>0.402083</td>\n",
       "      <td>0.027933</td>\n",
       "      <td>0.012000</td>\n",
       "      <td>0.228363</td>\n",
       "    </tr>\n",
       "    <tr>\n",
       "      <th>75%</th>\n",
       "      <td>0.436047</td>\n",
       "      <td>0.714694</td>\n",
       "      <td>0.614583</td>\n",
       "      <td>0.194134</td>\n",
       "      <td>0.092000</td>\n",
       "      <td>0.364115</td>\n",
       "    </tr>\n",
       "    <tr>\n",
       "      <th>max</th>\n",
       "      <td>0.930233</td>\n",
       "      <td>0.971412</td>\n",
       "      <td>1.000000</td>\n",
       "      <td>1.000000</td>\n",
       "      <td>1.000000</td>\n",
       "      <td>1.000000</td>\n",
       "    </tr>\n",
       "  </tbody>\n",
       "</table>\n",
       "</div>"
      ],
      "text/plain": [
       "                c          cr          fe          al          ti  \\\n",
       "count  174.000000  174.000000  174.000000  174.000000  174.000000   \n",
       "mean     0.221866    0.459269    0.446408    0.136069    0.126506   \n",
       "std      0.248991    0.311240    0.210586    0.197435    0.224213   \n",
       "min      0.000000    0.000000    0.000000    0.000000    0.000000   \n",
       "25%      0.023256    0.176672    0.270833    0.011173    0.000000   \n",
       "50%      0.069767    0.556604    0.402083    0.027933    0.012000   \n",
       "75%      0.436047    0.714694    0.614583    0.194134    0.092000   \n",
       "max      0.930233    0.971412    1.000000    1.000000    1.000000   \n",
       "\n",
       "       yield strength  \n",
       "count      174.000000  \n",
       "mean         0.277403  \n",
       "std          0.194965  \n",
       "min          0.004587  \n",
       "25%          0.153068  \n",
       "50%          0.228363  \n",
       "75%          0.364115  \n",
       "max          1.000000  "
      ]
     },
     "execution_count": 5,
     "metadata": {},
     "output_type": "execute_result"
    }
   ],
   "source": [
    "steels_train.describe()"
   ]
  },
  {
   "cell_type": "code",
   "execution_count": null,
   "id": "shared-archives",
   "metadata": {},
   "outputs": [],
   "source": []
  },
  {
   "cell_type": "code",
   "execution_count": 6,
   "id": "assisted-voice",
   "metadata": {},
   "outputs": [],
   "source": [
    "# Dividing the training data set into X and Y\n",
    "y_train = steels_train.pop('yield strength')\n",
    "X_train = steels_train"
   ]
  },
  {
   "cell_type": "code",
   "execution_count": 7,
   "id": "proper-enemy",
   "metadata": {},
   "outputs": [],
   "source": [
    "# Import validation data\n",
    "steels_val = '~/Projects/machine-learning/data/steels_val.csv'\n",
    "\n",
    "steels_val = pd.read_csv(steels_val, sep = \",\", engine='python')"
   ]
  },
  {
   "cell_type": "code",
   "execution_count": 8,
   "id": "distinct-divorce",
   "metadata": {},
   "outputs": [],
   "source": [
    "# Import validation data\n",
    "steels_val = '~/Projects/machine-learning/data/steels_val.csv'\n",
    "\n",
    "steels_val = pd.read_csv(steels_val, sep = \",\", engine='python')\n",
    "\n",
    "# Dividing the validation data set into X and Y\n",
    "y_val = steels_val.pop('yield strength')\n",
    "X_val = steels_val"
   ]
  },
  {
   "cell_type": "code",
   "execution_count": 9,
   "id": "european-marble",
   "metadata": {},
   "outputs": [],
   "source": [
    "# Build a polynomial SVM model\n",
    "\n",
    "from sklearn.svm import SVR\n",
    "regressor = SVR(kernel = 'poly', degree=2)\n",
    "regressor.fit(X_train, y_train)\n",
    "y_pred = regressor.predict(X_val)"
   ]
  },
  {
   "cell_type": "code",
   "execution_count": null,
   "id": "bronze-throat",
   "metadata": {},
   "outputs": [],
   "source": []
  },
  {
   "cell_type": "code",
   "execution_count": 10,
   "id": "acting-chocolate",
   "metadata": {},
   "outputs": [
    {
     "data": {
      "text/plain": [
       "Text(0.5, 0, 'Errors')"
      ]
     },
     "execution_count": 10,
     "metadata": {},
     "output_type": "execute_result"
    },
    {
     "data": {
      "image/png": "[encoded data removed]",
      "text/plain": [
       "<Figure size 432x288 with 1 Axes>"
      ]
     },
     "metadata": {
      "needs_background": "light"
     },
     "output_type": "display_data"
    }
   ],
   "source": [
    "import seaborn as sns\n",
    "import matplotlib.pyplot as plt \n",
    "y_train_yield_strength = regressor.predict(X_train)\n",
    "# Plot the histogram of the error terms\n",
    "fig = plt.figure()\n",
    "sns.histplot((y_train - y_train_yield_strength), bins = 30)\n",
    "fig.suptitle('Error Terms', fontsize = 20)                  # Plot heading \n",
    "plt.xlabel('Errors', fontsize = 18)                         # X-label"
   ]
  },
  {
   "cell_type": "code",
   "execution_count": 11,
   "id": "veterinary-luxury",
   "metadata": {},
   "outputs": [
    {
     "data": {
      "text/plain": [
       "0.014536604433880773"
      ]
     },
     "execution_count": 11,
     "metadata": {},
     "output_type": "execute_result"
    }
   ],
   "source": [
    "# mean squared error\n",
    "\n",
    "from sklearn.metrics import mean_squared_error\n",
    "\n",
    "y_pred = regressor.predict(X_train)\n",
    "\n",
    "mean_squared_error(y_train, y_pred)"
   ]
  },
  {
   "cell_type": "code",
   "execution_count": 12,
   "id": "romance-payday",
   "metadata": {},
   "outputs": [
    {
     "data": {
      "text/plain": [
       "0.6153608735694591"
      ]
     },
     "execution_count": 12,
     "metadata": {},
     "output_type": "execute_result"
    }
   ],
   "source": [
    "regressor.score(X_train, y_train)"
   ]
  },
  {
   "cell_type": "code",
   "execution_count": null,
   "id": "agricultural-ireland",
   "metadata": {},
   "outputs": [],
   "source": []
  },
  {
   "cell_type": "code",
   "execution_count": 13,
   "id": "acquired-worthy",
   "metadata": {},
   "outputs": [
    {
     "data": {
      "text/plain": [
       "0.019022664100180886"
      ]
     },
     "execution_count": 13,
     "metadata": {},
     "output_type": "execute_result"
    }
   ],
   "source": [
    "# mean squared error\n",
    "\n",
    "from sklearn.metrics import mean_squared_error\n",
    "\n",
    "y_pred = regressor.predict(X_val)\n",
    "\n",
    "mean_squared_error(y_val, y_pred)"
   ]
  },
  {
   "cell_type": "code",
   "execution_count": null,
   "id": "square-package",
   "metadata": {},
   "outputs": [],
   "source": []
  },
  {
   "cell_type": "code",
   "execution_count": 14,
   "id": "horizontal-database",
   "metadata": {},
   "outputs": [
    {
     "data": {
      "text/plain": [
       "0.6087472517046006"
      ]
     },
     "execution_count": 14,
     "metadata": {},
     "output_type": "execute_result"
    }
   ],
   "source": [
    "regressor.score(X_val, y_val)"
   ]
  },
  {
   "cell_type": "code",
   "execution_count": null,
   "id": "helpful-raleigh",
   "metadata": {},
   "outputs": [],
   "source": []
  },
  {
   "cell_type": "code",
   "execution_count": 15,
   "id": "prepared-queue",
   "metadata": {},
   "outputs": [],
   "source": [
    "# Import test data\n",
    "steels_test = '~/Projects/machine-learning/data/steels_test.csv'\n",
    "\n",
    "steels_test = pd.read_csv(steels_test, sep = \",\", engine='python')\n",
    "\n",
    "# Dividing the validation data set into X and Y\n",
    "y_test = steels_test.pop('yield strength')\n",
    "X_test = steels_test"
   ]
  },
  {
   "cell_type": "code",
   "execution_count": 16,
   "id": "eight-clearance",
   "metadata": {},
   "outputs": [],
   "source": [
    "# regressor.score(X_test, y_test)"
   ]
  },
  {
   "cell_type": "code",
   "execution_count": 17,
   "id": "cultural-relative",
   "metadata": {},
   "outputs": [
    {
     "data": {
      "text/plain": [
       "0.012216470182438066"
      ]
     },
     "execution_count": 17,
     "metadata": {},
     "output_type": "execute_result"
    }
   ],
   "source": [
    "# mean squared error\n",
    "\n",
    "from sklearn.metrics import mean_squared_error\n",
    "\n",
    "y_pred_test = regressor.predict(X_test)\n",
    "\n",
    "mean_squared_error(y_test, y_pred_test)"
   ]
  },
  {
   "cell_type": "code",
   "execution_count": 18,
   "id": "gentle-space",
   "metadata": {},
   "outputs": [
    {
     "name": "stdout",
     "output_type": "stream",
     "text": [
      "Mean Absolute Error: 87.88\n",
      "Mean Squared Error: 12.22\n",
      "Root Mean Squared Error: 110.53\n"
     ]
    }
   ],
   "source": [
    "from sklearn import metrics\n",
    "\n",
    "print('Mean Absolute Error:', round(metrics.mean_absolute_error(y_test, y_pred_test) * 1000, 2))\n",
    "print('Mean Squared Error:', round(metrics.mean_squared_error(y_test, y_pred_test) * 1000, 2))\n",
    "print('Root Mean Squared Error:', round(np.sqrt(metrics.mean_squared_error(y_test, y_pred_test)) * 1000, 2))"
   ]
  }
 ],
 "metadata": {
  "kernelspec": {
   "display_name": "Python 3",
   "language": "python",
   "name": "python3"
  },
  "language_info": {
   "codemirror_mode": {
    "name": "ipython",
    "version": 3
   },
   "file_extension": ".py",
   "mimetype": "text/x-python",
   "name": "python",
   "nbconvert_exporter": "python",
   "pygments_lexer": "ipython3",
   "version": "3.9.9"
  }
 },
 "nbformat": 4,
 "nbformat_minor": 5
}
